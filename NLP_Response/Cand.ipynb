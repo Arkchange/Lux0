{
 "cells": [
  {
   "cell_type": "code",
   "execution_count": 9,
   "id": "efa0f191",
   "metadata": {},
   "outputs": [
    {
     "name": "stdout",
     "output_type": "stream",
     "text": [
      "['Accepte']\n"
     ]
    }
   ],
   "source": [
    "import pandas as pd\n",
    "import re\n",
    "import numpy as np\n",
    "from sklearn.feature_extraction.text import TfidfVectorizer\n",
    "from sklearn.linear_model import LogisticRegression\n",
    "import spacy\n",
    "import joblib\n",
    "\n",
    "df = pd.read_csv('Candidature.csv', encoding='utf-8')\n",
    "\n",
    "def preprocess_text(text):\n",
    "    # Convert to lowercase\n",
    "    text = text.lower()\n",
    "    # Remove punctuation and special characters\n",
    "    text = re.sub(r'[^\\w\\s]', '', text)\n",
    "    # Remove extra whitespace\n",
    "    text = re.sub(r'\\s+', ' ', text).strip()\n",
    "    # Tokenization\n",
    "    return text\n",
    "\n",
    "for text in df['Contenu']:\n",
    "    preprocessed_text = preprocess_text(text)\n",
    "    df['Contenu'] = df['Contenu'].replace(text, preprocessed_text)\n",
    "\n",
    "nlp = spacy.load(\"fr_core_news_sm\")\n",
    "\n",
    "def spacy_tokenizer(text):\n",
    "    doc = nlp(text.lower())\n",
    "    return \" \".join([token.text for token in doc if not token.is_stop and not token.is_punct])\n",
    "\n",
    "df[\"Contenu_Lemmatise\"] = df[\"Contenu\"].apply(spacy_tokenizer)\n",
    "\n",
    "# Exemple de dataset\n",
    "X = df[\"Contenu_Lemmatise\"]\n",
    "y = df[\"Réponse\"]\n",
    "\n",
    "X_train, X_test, y_train, y_test =X[8:], X[:8],y[8:], y[:8] #First 8 cause true labels other are GPT\n",
    "\n",
    "vectorizer = TfidfVectorizer()\n",
    "X_train_vec = vectorizer.fit_transform(X_train)\n",
    "X_test_vec = vectorizer.transform(X_test)\n",
    "\n",
    "model = LogisticRegression()\n",
    "model.fit(X_train_vec, y_train)\n",
    "\n",
    "y_pred = model.predict(X_test_vec)\n",
    "\n",
    "text = \"Nous avons le plaisir de vous informer que vous avez été présélectionné·e pour un.\"\n",
    "text1 = preprocess_text(text)\n",
    "text2 = spacy_tokenizer(text1)\n",
    "text_vec = vectorizer.transform([text2])\n",
    "print(model.predict(text_vec))"
   ]
  },
  {
   "cell_type": "code",
   "execution_count": 8,
   "id": "20526d28",
   "metadata": {},
   "outputs": [
    {
     "name": "stdout",
     "output_type": "stream",
     "text": [
      "plaisir informer avez été présélectionnée entretien\n"
     ]
    }
   ],
   "source": [
    "print(text2)\n"
   ]
  }
 ],
 "metadata": {
  "kernelspec": {
   "display_name": "NLP_env",
   "language": "python",
   "name": "python3"
  },
  "language_info": {
   "codemirror_mode": {
    "name": "ipython",
    "version": 3
   },
   "file_extension": ".py",
   "mimetype": "text/x-python",
   "name": "python",
   "nbconvert_exporter": "python",
   "pygments_lexer": "ipython3",
   "version": "3.13.3"
  }
 },
 "nbformat": 4,
 "nbformat_minor": 5
}
